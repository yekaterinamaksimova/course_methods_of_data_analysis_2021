{
 "cells": [
  {
   "cell_type": "code",
   "execution_count": 1,
   "metadata": {},
   "outputs": [],
   "source": [
    "import pandas as pd\n",
    "import numpy as np\n",
    "import matplotlib.pyplot as plt\n",
    "import math"
   ]
  },
  {
   "cell_type": "markdown",
   "metadata": {},
   "source": [
    "#### Generate simulated data D, distributed exponentially with true decay constant lambda_true = 5 cm"
   ]
  },
  {
   "cell_type": "code",
   "execution_count": null,
   "metadata": {},
   "outputs": [],
   "source": [
    "#np.random.seed(200)"
   ]
  },
  {
   "cell_type": "code",
   "execution_count": 2,
   "metadata": {},
   "outputs": [],
   "source": [
    "D = np.empty(10000)\n",
    "j = 0\n",
    "z = np.exp(-1 / 5) - np.exp(-20 / 5)\n",
    "while j < len(D):\n",
    "    rand_x = np.random.exponential(5) / z\n",
    "    if rand_x <= 20 and rand_x >= 1:\n",
    "        D[j] = rand_x\n",
    "        j += 1 "
   ]
  },
  {
   "cell_type": "code",
   "execution_count": 3,
   "metadata": {},
   "outputs": [
    {
     "data": {
      "text/plain": [
       "array([18.42459253,  1.60473555,  5.63730918, ..., 14.76981556,\n",
       "       12.86890549,  1.10479738])"
      ]
     },
     "execution_count": 3,
     "metadata": {},
     "output_type": "execute_result"
    }
   ],
   "source": [
    "D"
   ]
  },
  {
   "cell_type": "code",
   "execution_count": 3,
   "metadata": {},
   "outputs": [],
   "source": [
    "def get_P_l(lambda_cur, lambda_mean, sigma):\n",
    "    return np.exp(-(lambda_cur-lambda_mean)**2/(2*sigma**2))/(2*np.pi*sigma**2)**(0.5)"
   ]
  },
  {
   "cell_type": "code",
   "execution_count": 4,
   "metadata": {},
   "outputs": [],
   "source": [
    "def get_P_xl(lambda_cur, N, data):\n",
    "    z_l = np.exp(-1 / lambda_cur) - np.exp(-20 / lambda_cur)\n",
    "    return np.exp(-np.sum(data[:N]) / lambda_cur) / ((lambda_cur * z_l) ** N)"
   ]
  },
  {
   "cell_type": "code",
   "execution_count": 5,
   "metadata": {},
   "outputs": [],
   "source": [
    "def get_P_xl_alt(lambda_cur, N, data):\n",
    "    z_l = np.exp(-1 / lambda_cur) - np.exp(-20 / lambda_cur)\n",
    "    return np.exp(N*np.log(1/(lambda_cur*z_l)) - np.sum(data[:N])/lambda_cur)"
   ]
  },
  {
   "cell_type": "code",
   "execution_count": 7,
   "metadata": {},
   "outputs": [],
   "source": [
    "# fig, ax = plt.subplots(1, 3, figsize = (14,4))\n",
    "# # fig.suptitle('bla', fontsize = 16)\n",
    "\n",
    "# ax[0].plot(lam, P_xl, '.')\n",
    "# ax[0].set_title('P_xl')\n",
    "# ax[1].plot(lam, P_l, '.')\n",
    "# ax[1].set_title('P_l')\n",
    "# ax[2].plot(lam, P_lx, '.')\n",
    "# ax[2].set_title('P_lx')\n",
    "\n",
    "# #fig.legend()"
   ]
  },
  {
   "cell_type": "code",
   "execution_count": 16,
   "metadata": {
    "scrolled": true
   },
   "outputs": [
    {
     "name": "stderr",
     "output_type": "stream",
     "text": [
      "/Users/ekaterinamaksimova/Programs/anaconda3/lib/python3.6/site-packages/ipykernel_launcher.py:17: RuntimeWarning: divide by zero encountered in true_divide\n",
      "/Users/ekaterinamaksimova/Programs/anaconda3/lib/python3.6/site-packages/ipykernel_launcher.py:17: RuntimeWarning: invalid value encountered in true_divide\n",
      "/Users/ekaterinamaksimova/Programs/anaconda3/lib/python3.6/site-packages/ipykernel_launcher.py:15: RuntimeWarning: invalid value encountered in double_scalars\n",
      "  from ipykernel import kernelapp as app\n"
     ]
    }
   ],
   "source": [
    "lam = np.arange(1,20,0.1)\n",
    "l_prior = 8\n",
    "sigma_prior = 4\n",
    "N_range = range(1,1026)\n",
    "\n",
    "prior = np.array([get_P_l(l, l_prior, sigma_prior) for l in lam])\n",
    "posteriors = np.empty([len(N_range), len(lam)]) \n",
    "\n",
    "for N in N_range:\n",
    "    P_xl = np.empty(len(lam))\n",
    "    P_lx = np.empty(len(lam))\n",
    "    i = 0\n",
    "    for l in lam:\n",
    "        P_xl[i] = get_P_xl_alt(l, N, D)\n",
    "        P_lx[i] = P_xl[i]* prior[i]\n",
    "        i +=1\n",
    "    P_lx = P_lx / np.trapz(P_lx, lam)\n",
    "    \n",
    "    posteriors[N-1] = P_lx\n",
    "    prior = P_lx"
   ]
  },
  {
   "cell_type": "code",
   "execution_count": 17,
   "metadata": {},
   "outputs": [
    {
     "data": {
      "text/plain": [
       "([<matplotlib.axis.XTick at 0x1109427b8>,\n",
       "  <matplotlib.axis.XTick at 0x1109420f0>,\n",
       "  <matplotlib.axis.XTick at 0x110927e48>,\n",
       "  <matplotlib.axis.XTick at 0x1109920f0>,\n",
       "  <matplotlib.axis.XTick at 0x110992550>,\n",
       "  <matplotlib.axis.XTick at 0x110992a20>,\n",
       "  <matplotlib.axis.XTick at 0x110992ef0>,\n",
       "  <matplotlib.axis.XTick at 0x110999400>,\n",
       "  <matplotlib.axis.XTick at 0x1109998d0>,\n",
       "  <matplotlib.axis.XTick at 0x110999dd8>,\n",
       "  <matplotlib.axis.XTick at 0x110992eb8>,\n",
       "  <matplotlib.axis.XTick at 0x1109877b8>,\n",
       "  <matplotlib.axis.XTick at 0x11099f470>,\n",
       "  <matplotlib.axis.XTick at 0x11099f978>,\n",
       "  <matplotlib.axis.XTick at 0x11099fe80>,\n",
       "  <matplotlib.axis.XTick at 0x1109a93c8>,\n",
       "  <matplotlib.axis.XTick at 0x1109a98d0>,\n",
       "  <matplotlib.axis.XTick at 0x1109a9dd8>,\n",
       "  <matplotlib.axis.XTick at 0x1109a9898>,\n",
       "  <matplotlib.axis.XTick at 0x11099fa20>],\n",
       " <a list of 20 Text xticklabel objects>)"
      ]
     },
     "execution_count": 17,
     "metadata": {},
     "output_type": "execute_result"
    },
    {
     "data": {
      "image/png": "[encoded data removed]",
      "text/plain": [
       "<Figure size 720x432 with 1 Axes>"
      ]
     },
     "metadata": {},
     "output_type": "display_data"
    }
   ],
   "source": [
    "plt.figure(figsize = (10,6))\n",
    "selected_N = [2,4,8,16,32,64,128,256,612,1024]\n",
    "for N in selected_N:\n",
    "    plt.plot(lam, posteriors[N-1], label = N)\n",
    "plt.legend()\n",
    "plt.xticks(range(0,20,1))\n",
    "#plt.ylim(0,3)"
   ]
  },
  {
   "cell_type": "markdown",
   "metadata": {},
   "source": [
    "#### Plot the mode of posterior and its width as a function of N"
   ]
  },
  {
   "cell_type": "code",
   "execution_count": 10,
   "metadata": {},
   "outputs": [],
   "source": [
    "modes = []\n",
    "stds = []\n",
    "for distr in posteriors:\n",
    "    mode = lam[distr.argmax()]\n",
    "    integrand = [((l - mode)**2) *  distr[key] for key, l in enumerate(lam)]\n",
    "    std = (np.trapz(integrand, lam))**(0.5)\n",
    "    modes.append(mode)\n",
    "    stds.append(std)\n",
    "\n",
    "# print(modes)\n",
    "# print(stds)"
   ]
  },
  {
   "cell_type": "code",
   "execution_count": 11,
   "metadata": {},
   "outputs": [
    {
     "data": {
      "text/plain": [
       "Text(0.5, 1.0, 'STD of the posterior as a function of N')"
      ]
     },
     "execution_count": 11,
     "metadata": {},
     "output_type": "execute_result"
    },
    {
     "data": {
      "image/png": "[encoded data removed]",
      "text/plain": [
       "<Figure size 432x288 with 2 Axes>"
      ]
     },
     "metadata": {},
     "output_type": "display_data"
    }
   ],
   "source": [
    "fig, ax = plt.subplots(2, 1, figsize = (6,4), sharex = True)\n",
    "\n",
    "ax[0].plot(selected_N, [modes[N-1] for N in selected_N], '.')\n",
    "ax[0].axhline(y=5, color='r', linestyle='-', label = 'True lambda = 5')\n",
    "ax[0].set_xscale('log', basex=2)\n",
    "#ax[0].set_yticks(range(4,12,2))\n",
    "ax[0].set_title('Mode of the posterior as a function of N')\n",
    "ax[0].legend()\n",
    "\n",
    "ax[1].plot(selected_N, [stds[N-1] for N in selected_N], '.')\n",
    "ax[1].set_xscale('log', basex=2)\n",
    "ax[1].set_title('STD of the posterior as a function of N')\n",
    "\n",
    "#ax[1].set_yticks(range(4,12,1))"
   ]
  },
  {
   "cell_type": "markdown",
   "metadata": {},
   "source": [
    "#### How many datapoints are needed to clain that the true value of lambda is less than 8cm with 95% certainty?"
   ]
  },
  {
   "cell_type": "code",
   "execution_count": 12,
   "metadata": {},
   "outputs": [
    {
     "name": "stdout",
     "output_type": "stream",
     "text": [
      "219\n"
     ]
    }
   ],
   "source": [
    "n_thr = 0\n",
    "for distr in posteriors:\n",
    "    x = lam[lam <=8]\n",
    "    distr = distr[:len(x)]\n",
    "    n_thr += 1\n",
    "    if np.trapz(distr, x) >= 0.95:\n",
    "        break\n",
    "print(n_thr)"
   ]
  },
  {
   "cell_type": "markdown",
   "metadata": {},
   "source": [
    "## Many simulations!"
   ]
  },
  {
   "cell_type": "code",
   "execution_count": 12,
   "metadata": {},
   "outputs": [
    {
     "name": "stderr",
     "output_type": "stream",
     "text": [
      "/Users/ekaterinamaksimova/Programs/anaconda3/lib/python3.6/site-packages/ipykernel_launcher.py:32: RuntimeWarning: divide by zero encountered in true_divide\n",
      "/Users/ekaterinamaksimova/Programs/anaconda3/lib/python3.6/site-packages/ipykernel_launcher.py:32: RuntimeWarning: invalid value encountered in true_divide\n",
      "/Users/ekaterinamaksimova/Programs/anaconda3/lib/python3.6/site-packages/ipykernel_launcher.py:30: RuntimeWarning: invalid value encountered in double_scalars\n",
      "/Users/ekaterinamaksimova/Programs/anaconda3/lib/python3.6/site-packages/ipykernel_launcher.py:30: RuntimeWarning: overflow encountered in double_scalars\n",
      "/Users/ekaterinamaksimova/Programs/anaconda3/lib/python3.6/site-packages/ipykernel_launcher.py:3: RuntimeWarning: overflow encountered in exp\n",
      "  This is separate from the ipykernel package so we can avoid doing imports until\n",
      "/Users/ekaterinamaksimova/Programs/anaconda3/lib/python3.6/site-packages/numpy/core/fromnumeric.py:90: RuntimeWarning: overflow encountered in reduce\n",
      "  return ufunc.reduce(obj, axis, dtype, out, **passkwargs)\n"
     ]
    }
   ],
   "source": [
    "lambda_true = 5\n",
    "total_N = 2000\n",
    "j = 0\n",
    "z = np.exp(-1 / 5) - np.exp(-20 / 5)\n",
    "N_sim = 10\n",
    "\n",
    "lam = np.arange(1,20,0.1)\n",
    "l_prior = 8\n",
    "sigma_prior = 4\n",
    "N_range = range(1,1026)\n",
    "\n",
    "all_post = np.empty([N_sim, len(N_range), len(lam)]) \n",
    "\n",
    "for simN in range(N_sim):\n",
    "    data = np.empty(total_N)\n",
    "    while j < total_N:\n",
    "        rand_x = np.random.exponential(lambda_true) / z\n",
    "        if rand_x <= 20 and rand_x >= 1:\n",
    "            data[j] = rand_x\n",
    "            j += 1 \n",
    "    \n",
    "    prior = np.array([get_P_l(l, l_prior, sigma_prior) for l in lam])\n",
    "    posteriors = np.empty([len(N_range), len(lam)]) \n",
    "    for N in N_range:\n",
    "        P_xl = np.empty(len(lam))\n",
    "        P_lx = np.empty(len(lam))\n",
    "        i = 0\n",
    "        for l in lam:\n",
    "            P_xl[i] = get_P_xl_alt(l, N, data)\n",
    "            P_lx[i] = P_xl[i]* prior[i]\n",
    "            i +=1\n",
    "        P_lx = P_lx / np.trapz(P_lx, lam)\n",
    "\n",
    "        posteriors[N-1] = P_lx\n",
    "        prior = P_lx\n",
    "        \n",
    "    all_post[simN] = posteriors"
   ]
  },
  {
   "cell_type": "code",
   "execution_count": 13,
   "metadata": {},
   "outputs": [],
   "source": [
    "all_modes = []\n",
    "all_stds = []\n",
    "for sim in all_post:\n",
    "    modes = []\n",
    "    stds = []\n",
    "    for distr in sim:\n",
    "        mode = lam[distr.argmax()]\n",
    "        integrand = [((l - mode)**2) *  distr[key] for key, l in enumerate(lam)]\n",
    "        std = (np.trapz(integrand, lam))**(0.5)\n",
    "        modes.append(mode)\n",
    "        stds.append(std)\n",
    "    all_modes.append(modes)\n",
    "    all_stds.append(stds)\n",
    "\n",
    "#print(all_modes)\n",
    "#print(all_stds)"
   ]
  },
  {
   "cell_type": "code",
   "execution_count": 14,
   "metadata": {},
   "outputs": [
    {
     "data": {
      "text/plain": [
       "([<matplotlib.axis.XTick at 0x11028dcf8>,\n",
       "  <matplotlib.axis.XTick at 0x110254d30>,\n",
       "  <matplotlib.axis.XTick at 0x1102547f0>,\n",
       "  <matplotlib.axis.XTick at 0x110506a20>,\n",
       "  <matplotlib.axis.XTick at 0x110506ef0>,\n",
       "  <matplotlib.axis.XTick at 0x110510400>,\n",
       "  <matplotlib.axis.XTick at 0x1105108d0>,\n",
       "  <matplotlib.axis.XTick at 0x110510da0>,\n",
       "  <matplotlib.axis.XTick at 0x1105182e8>,\n",
       "  <matplotlib.axis.XTick at 0x1105187f0>,\n",
       "  <matplotlib.axis.XTick at 0x1105109b0>,\n",
       "  <matplotlib.axis.XTick at 0x110518a20>,\n",
       "  <matplotlib.axis.XTick at 0x110518d30>,\n",
       "  <matplotlib.axis.XTick at 0x11051e278>,\n",
       "  <matplotlib.axis.XTick at 0x11051e780>,\n",
       "  <matplotlib.axis.XTick at 0x11051ec88>,\n",
       "  <matplotlib.axis.XTick at 0x1105261d0>,\n",
       "  <matplotlib.axis.XTick at 0x1105266d8>,\n",
       "  <matplotlib.axis.XTick at 0x110526be0>,\n",
       "  <matplotlib.axis.XTick at 0x110526a58>],\n",
       " <a list of 20 Text xticklabel objects>)"
      ]
     },
     "execution_count": 14,
     "metadata": {},
     "output_type": "execute_result"
    },
    {
     "data": {
      "image/png": "[encoded data removed]",
      "text/plain": [
       "<Figure size 720x432 with 1 Axes>"
      ]
     },
     "metadata": {},
     "output_type": "display_data"
    }
   ],
   "source": [
    "plt.figure(figsize = (10,6))\n",
    "selected_N = [2,4,8,16,32,64,128,256,612,1024]\n",
    "for N in selected_N:\n",
    "    plt.plot(lam, all_post[0][N-1], label = N)\n",
    "plt.legend()\n",
    "plt.xticks(range(0,20,1))\n",
    "#plt.ylim(0,3)"
   ]
  },
  {
   "cell_type": "code",
   "execution_count": 15,
   "metadata": {},
   "outputs": [],
   "source": [
    "all_modes_mean = np.mean(all_modes, axis = 0)\n",
    "all_modes_std = np.std(all_modes, axis = 0)\n",
    "all_stds_mean = np.mean(all_stds, axis = 0)\n",
    "all_stds_std = np.std(all_stds, axis = 0)"
   ]
  },
  {
   "cell_type": "code",
   "execution_count": 16,
   "metadata": {},
   "outputs": [
    {
     "name": "stdout",
     "output_type": "stream",
     "text": [
      "[1.   1.64 1.6  ... 1.   1.   1.  ]\n",
      "[6.30121954        nan        nan ...        nan        nan        nan]\n"
     ]
    }
   ],
   "source": [
    "print(all_modes_mean)\n",
    "print(all_stds_mean)"
   ]
  },
  {
   "cell_type": "code",
   "execution_count": 17,
   "metadata": {},
   "outputs": [
    {
     "data": {
      "text/plain": [
       "Text(0.5, 1.0, 'STD of the posterior as a function of N')"
      ]
     },
     "execution_count": 17,
     "metadata": {},
     "output_type": "execute_result"
    },
    {
     "data": {
      "image/png": "[encoded data removed]",
      "text/plain": [
       "<Figure size 432x288 with 2 Axes>"
      ]
     },
     "metadata": {},
     "output_type": "display_data"
    }
   ],
   "source": [
    "fig, ax = plt.subplots(2, 1, figsize = (6,4), sharex = True)\n",
    "\n",
    "ax[0].errorbar(x = selected_N, y = [all_modes_mean[N-1] for N in selected_N], \n",
    "               yerr = [all_modes_std[N-1] for N in selected_N], linestyle = '-')\n",
    "ax[0].axhline(y=5, color='r', linestyle='-', label = 'True lambda = 5')\n",
    "ax[0].set_xscale('log', basex=2)\n",
    "#ax[0].set_yticks(range(4,12,2))\n",
    "ax[0].set_title('Mode of the posterior as a function of N')\n",
    "ax[0].legend()\n",
    "\n",
    "ax[1].errorbar(x = selected_N, y = [all_stds_mean[N-1] for N in selected_N], yerr = [all_stds_std[N-1] for N in selected_N])\n",
    "ax[1].set_xscale('log', basex=2)\n",
    "ax[1].set_title('STD of the posterior as a function of N')\n",
    "\n",
    "#ax[1].set_yticks(range(4,12,1))"
   ]
  },
  {
   "cell_type": "code",
   "execution_count": 23,
   "metadata": {},
   "outputs": [
    {
     "name": "stdout",
     "output_type": "stream",
     "text": [
      "[8, 2, 2, 1025, 1025, 2, 1025, 2, 1025, 2] 411.8\n"
     ]
    }
   ],
   "source": [
    "#How many datapoints are needed to clain that the true value of lambda is less than 8cm with 95% certainty?\n",
    "x = lam[lam <=8]\n",
    "n_thr = [0]*N_sim\n",
    "i = 0\n",
    "for sim in all_post:\n",
    "    for distr in sim:\n",
    "        distr = distr[:len(x)]\n",
    "        n_thr[i] += 1\n",
    "        if np.trapz(distr, x) >= 0.95:\n",
    "            break\n",
    "    i += 1\n",
    "print(n_thr, np.mean(n_thr))"
   ]
  },
  {
   "cell_type": "code",
   "execution_count": null,
   "metadata": {},
   "outputs": [],
   "source": []
  }
 ],
 "metadata": {
  "kernelspec": {
   "display_name": "Python 3",
   "language": "python",
   "name": "python3"
  },
  "language_info": {
   "codemirror_mode": {
    "name": "ipython",
    "version": 3
   },
   "file_extension": ".py",
   "mimetype": "text/x-python",
   "name": "python",
   "nbconvert_exporter": "python",
   "pygments_lexer": "ipython3",
   "version": "3.6.8"
  }
 },
 "nbformat": 4,
 "nbformat_minor": 4
}
