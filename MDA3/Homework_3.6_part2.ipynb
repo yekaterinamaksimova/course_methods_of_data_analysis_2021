{
 "cells": [
  {
   "cell_type": "code",
   "execution_count": 1,
   "metadata": {},
   "outputs": [],
   "source": [
    "import pandas as pd\n",
    "import numpy as np\n",
    "import matplotlib.pyplot as plt\n",
    "import scipy.stats as stats\n",
    "import scipy.optimize as optimize\n",
    "import itertools\n",
    "import seaborn as sns"
   ]
  },
  {
   "cell_type": "code",
   "execution_count": 2,
   "metadata": {},
   "outputs": [],
   "source": [
    "v = np.genfromtxt('MDA3_data/votes.txt')\n",
    "votes = 2*(v-0.5)"
   ]
  },
  {
   "cell_type": "code",
   "execution_count": 3,
   "metadata": {},
   "outputs": [],
   "source": [
    "masks = [1 << i for i in range(9)] \n",
    "words = np.array([[int((i & m)>0) for m in masks] for i in range(2**9)])\n",
    "words = 2*(words - 0.5)"
   ]
  },
  {
   "cell_type": "code",
   "execution_count": 52,
   "metadata": {},
   "outputs": [],
   "source": [
    "# # votes_cent = votes[:800] - means\n",
    "# # # stds = np.std(votes[:800],0)\n",
    "# # stds = np.std(votes_cent,0)\n",
    "# # cov_v = (votes_cent.T @ votes_cent)\n",
    "# # cor_v = cov_v/np.diag(cov_v)\n",
    "# means = np.mean(votes[:800],0)\n",
    "# cor_v = np.corrcoef(votes[:800].T)\n",
    "# pv_flat = cor_v[np.triu_indices(9,1)]"
   ]
  },
  {
   "cell_type": "code",
   "execution_count": 54,
   "metadata": {},
   "outputs": [],
   "source": [
    "cov_v = (votes[:800].T @ votes[:800])\n",
    "cor_v = cov_v/np.diag(cov_v)\n",
    "pv_flat = cor_v[np.triu_indices(9,1)]\n",
    "means = np.mean(votes[:800],0)"
   ]
  },
  {
   "cell_type": "code",
   "execution_count": 55,
   "metadata": {},
   "outputs": [],
   "source": [
    "def probs(J, h):\n",
    "    p=np.exp(np.sum((words @ J)*words,1) + np.sum(h * words, 1)) # compute the not normalized probabilities\n",
    "    return p / np.sum(p) # return normalized"
   ]
  },
  {
   "cell_type": "code",
   "execution_count": 56,
   "metadata": {},
   "outputs": [],
   "source": [
    "def F(x):\n",
    "    # this is the function to find the root of. \n",
    "#     as input get  the flattened upper triang of J\n",
    "    J = np.zeros_like(cor_v)# \"unflatten it\"\n",
    "#     J = np.zeros_like(cormat)\n",
    "    h = np.zeros_like(means)\n",
    "    J[np.triu_indices(9,1)]=x[:36]\n",
    "    h = x[36:]# put input in the right place\n",
    "    p = probs(J, h) # compute probabilities\n",
    "    pv_th = (words.T * p) @ words #compute the model correlations with this given J\n",
    "    mean_th = np.sum(words.T * p, 1)\n",
    "    res = np.empty(45)\n",
    "    res[:36] = pv_th[np.triu_indices(9,1)] - pv_flat\n",
    "    res[36:] = mean_th - means\n",
    "    return res # return difference between model correlations and data correlations\n"
   ]
  },
  {
   "cell_type": "code",
   "execution_count": 57,
   "metadata": {},
   "outputs": [],
   "source": [
    "# find root of F - here I'm using scipy.optimize but you can use whatever!\n",
    "a = optimize.newton_krylov(F,np.zeros(45))\n",
    "# a = optimize.newton_krylov(F,np.append(cor_v[np.triu_indices(9,1)].flatten(),means))"
   ]
  },
  {
   "cell_type": "code",
   "execution_count": 58,
   "metadata": {},
   "outputs": [],
   "source": [
    "# convert result back to matrix form\n",
    "J_star = np.zeros_like(cor_v)\n",
    "J_star[np.triu_indices(9,1)]=a[:36]\n",
    "means_star = a[36:]"
   ]
  },
  {
   "cell_type": "code",
   "execution_count": 79,
   "metadata": {},
   "outputs": [
    {
     "data": {
      "text/plain": [
       "[Text(0, 0.5, '1'),\n",
       " Text(0, 1.5, '2'),\n",
       " Text(0, 2.5, '3'),\n",
       " Text(0, 3.5, '4'),\n",
       " Text(0, 4.5, '5'),\n",
       " Text(0, 5.5, '6'),\n",
       " Text(0, 6.5, '7'),\n",
       " Text(0, 7.5, '8'),\n",
       " Text(0, 8.5, '9')]"
      ]
     },
     "execution_count": 79,
     "metadata": {},
     "output_type": "execute_result"
    },
    {
     "data": {
      "image/png": "[encoded data removed]",
      "text/plain": [
       "<Figure size 432x288 with 2 Axes>"
      ]
     },
     "metadata": {},
     "output_type": "display_data"
    }
   ],
   "source": [
    "mask = np.triu(np.ones_like(J_star, dtype=bool))\n",
    "heatmap = sns.heatmap(J_star.T, mask=mask, square=True, linewidths=.5, center = 0)\n",
    "heatmap.set_xticklabels(labels = range(1,10)) \n",
    "heatmap.set_yticklabels(labels = range(1,10)) "
   ]
  },
  {
   "cell_type": "markdown",
   "metadata": {},
   "source": [
    "#### Comparison of the models"
   ]
  },
  {
   "cell_type": "code",
   "execution_count": 69,
   "metadata": {},
   "outputs": [],
   "source": [
    "J_star_1 = np.load('3.6_J_star_part1.npy')"
   ]
  },
  {
   "cell_type": "code",
   "execution_count": 80,
   "metadata": {},
   "outputs": [
    {
     "data": {
      "text/plain": [
       "[Text(0, 0.5, '1'),\n",
       " Text(0, 1.5, '2'),\n",
       " Text(0, 2.5, '3'),\n",
       " Text(0, 3.5, '4'),\n",
       " Text(0, 4.5, '5'),\n",
       " Text(0, 5.5, '6'),\n",
       " Text(0, 6.5, '7'),\n",
       " Text(0, 7.5, '8'),\n",
       " Text(0, 8.5, '9')]"
      ]
     },
     "execution_count": 80,
     "metadata": {},
     "output_type": "execute_result"
    },
    {
     "data": {
      "image/png": "[encoded data removed]",
      "text/plain": [
       "<Figure size 432x288 with 2 Axes>"
      ]
     },
     "metadata": {},
     "output_type": "display_data"
    }
   ],
   "source": [
    "mask = np.triu(np.ones_like(J_star, dtype=bool))\n",
    "heatmap = sns.heatmap(J_star.T - J_star_1.T, mask=mask, square=True, linewidths=.5)\n",
    "heatmap.set_xticklabels(labels = range(1,10)) \n",
    "heatmap.set_yticklabels(labels = range(1,10)) "
   ]
  },
  {
   "cell_type": "code",
   "execution_count": 82,
   "metadata": {},
   "outputs": [
    {
     "data": {
      "text/plain": [
       "([<matplotlib.axis.YTick at 0x12870b400>,\n",
       "  <matplotlib.axis.YTick at 0x128703cf8>,\n",
       "  <matplotlib.axis.YTick at 0x128701e80>,\n",
       "  <matplotlib.axis.YTick at 0x128723c18>],\n",
       " <a list of 4 Text yticklabel objects>)"
      ]
     },
     "execution_count": 82,
     "metadata": {},
     "output_type": "execute_result"
    },
    {
     "data": {
      "image/png": "[encoded data removed]",
      "text/plain": [
       "<Figure size 288x288 with 1 Axes>"
      ]
     },
     "metadata": {},
     "output_type": "display_data"
    }
   ],
   "source": [
    "plt.figure(figsize = (4,4))\n",
    "plt.scatter(J_star_1, J_star)\n",
    "plt.plot(np.arange(-0.6, 1.4, 0.1), np.arange(-0.6, 1.4, 0.1), ls = '--', color = 'red')\n",
    "plt.xlabel('Ising model: Jij', fontsize = 12)\n",
    "plt.ylabel('Ising model including \\n intrictic biases: Jij', fontsize = 12)\n",
    "plt.yticks([-0.5,0,0.5,1])\n",
    "# plt.grid()\n",
    "# plt.gca().set_aspect('equal', adjustable='box')\n",
    "# plt.draw()"
   ]
  },
  {
   "cell_type": "code",
   "execution_count": null,
   "metadata": {},
   "outputs": [],
   "source": []
  },
  {
   "cell_type": "markdown",
   "metadata": {},
   "source": [
    "### Test the prediction"
   ]
  },
  {
   "cell_type": "code",
   "execution_count": 63,
   "metadata": {},
   "outputs": [],
   "source": [
    "P_train = probs(J_star, means_star)"
   ]
  },
  {
   "cell_type": "code",
   "execution_count": 64,
   "metadata": {},
   "outputs": [],
   "source": [
    "test = votes[800:]\n",
    "index = []\n",
    "for i, word in enumerate(words):\n",
    "    for j, word1 in enumerate(test):\n",
    "        if tuple(word) == tuple(word1):\n",
    "            if i in index: continue\n",
    "            else: index.append(i)"
   ]
  },
  {
   "cell_type": "code",
   "execution_count": 87,
   "metadata": {},
   "outputs": [],
   "source": [
    "likelihood = np.sum(np.log(P_train[index]))"
   ]
  },
  {
   "cell_type": "code",
   "execution_count": 88,
   "metadata": {},
   "outputs": [
    {
     "data": {
      "text/plain": [
       "-208.9337346590867"
      ]
     },
     "execution_count": 88,
     "metadata": {},
     "output_type": "execute_result"
    }
   ],
   "source": [
    "likelihood"
   ]
  },
  {
   "cell_type": "code",
   "execution_count": null,
   "metadata": {},
   "outputs": [],
   "source": []
  }
 ],
 "metadata": {
  "kernelspec": {
   "display_name": "Python 3",
   "language": "python",
   "name": "python3"
  },
  "language_info": {
   "codemirror_mode": {
    "name": "ipython",
    "version": 3
   },
   "file_extension": ".py",
   "mimetype": "text/x-python",
   "name": "python",
   "nbconvert_exporter": "python",
   "pygments_lexer": "ipython3",
   "version": "3.6.8"
  }
 },
 "nbformat": 4,
 "nbformat_minor": 2
}
