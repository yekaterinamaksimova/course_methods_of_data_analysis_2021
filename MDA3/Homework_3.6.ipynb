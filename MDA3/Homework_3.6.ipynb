{
 "cells": [
  {
   "cell_type": "code",
   "execution_count": 2,
   "metadata": {},
   "outputs": [],
   "source": [
    "import pandas as pd\n",
    "import numpy as np\n",
    "import matplotlib.pyplot as plt\n",
    "import scipy.stats as stats\n",
    "import scipy.optimize as optimize\n",
    "import itertools\n",
    "import seaborn as sns"
   ]
  },
  {
   "cell_type": "code",
   "execution_count": 3,
   "metadata": {},
   "outputs": [],
   "source": [
    "v = np.genfromtxt('MDA3_data/votes.txt')\n",
    "votes = 2*(v-0.5)"
   ]
  },
  {
   "cell_type": "code",
   "execution_count": 4,
   "metadata": {},
   "outputs": [],
   "source": [
    "masks = [1 << i for i in range(9)] \n",
    "words = np.array([[int((i & m)>0) for m in masks] for i in range(2**9)])\n",
    "words = 2*(words - 0.5)"
   ]
  },
  {
   "cell_type": "code",
   "execution_count": 5,
   "metadata": {},
   "outputs": [],
   "source": [
    "cov_v = (votes[:800].T @ votes[:800])\n",
    "cor_v = cov_v/np.diag(cov_v)\n",
    "pv_flat = cor_v[np.triu_indices(9,1)]"
   ]
  },
  {
   "cell_type": "code",
   "execution_count": 6,
   "metadata": {},
   "outputs": [],
   "source": [
    "def probs(J):\n",
    "    p=np.exp(np.sum((words @ J)*words,1)) # compute the not normalized probabilities\n",
    "    return p / np.sum(p) # return normalized"
   ]
  },
  {
   "cell_type": "code",
   "execution_count": 7,
   "metadata": {},
   "outputs": [],
   "source": [
    "def F(x):\n",
    "    # this is the function to find the root of. \n",
    "#     as input get  the flattened upper triang of J\n",
    "    J = np.zeros_like(cor_v) # \"unflatten it\"\n",
    "    J[np.triu_indices(9,1)]=x # put input in the right place\n",
    "    p = probs(J) # compute probabilities\n",
    "    pv_th = (words.T * p) @ words #compute the model correlations with this given J\n",
    "    return pv_th[np.triu_indices(9,1)] - pv_flat # return difference between model correlations and data correlations\n"
   ]
  },
  {
   "cell_type": "code",
   "execution_count": 88,
   "metadata": {},
   "outputs": [],
   "source": [
    "# find root of F - here I'm using scipy.optimize but you can use whatever!\n",
    "a = optimize.newton_krylov(F,np.zeros(36))\n",
    "# convert result back to matrix form\n",
    "J_star = np.zeros_like(cor_v)\n",
    "J_star[np.triu_indices(9,1)]=a"
   ]
  },
  {
   "cell_type": "code",
   "execution_count": 99,
   "metadata": {},
   "outputs": [],
   "source": [
    "np.save('3.6_J_star_part1',J_star)"
   ]
  },
  {
   "cell_type": "code",
   "execution_count": 112,
   "metadata": {},
   "outputs": [
    {
     "data": {
      "text/plain": [
       "array([[ 0.        ,  0.51759388,  0.39875535,  0.47064415, -0.17385993,\n",
       "         0.32813727, -0.48993372, -0.25636634,  0.04771554],\n",
       "       [ 0.        ,  0.        ,  0.72432874,  0.46334695, -0.15713358,\n",
       "         0.05288833,  0.34832908,  0.131415  , -0.17420815],\n",
       "       [ 0.        ,  0.        ,  0.        ,  0.30016292,  0.37475765,\n",
       "         0.12473581, -0.1303218 ,  0.02564607,  0.15717958],\n",
       "       [ 0.        ,  0.        ,  0.        ,  0.        ,  0.6198586 ,\n",
       "         0.08264835,  0.24688556, -0.04653639, -0.36213331],\n",
       "       [ 0.        ,  0.        ,  0.        ,  0.        ,  0.        ,\n",
       "         0.29650612,  0.40758778,  0.1189056 ,  0.2822742 ],\n",
       "       [ 0.        ,  0.        ,  0.        ,  0.        ,  0.        ,\n",
       "         0.        ,  0.60873196,  0.21041869,  0.28170892],\n",
       "       [ 0.        ,  0.        ,  0.        ,  0.        ,  0.        ,\n",
       "         0.        ,  0.        ,  0.35730754,  0.37971738],\n",
       "       [ 0.        ,  0.        ,  0.        ,  0.        ,  0.        ,\n",
       "         0.        ,  0.        ,  0.        ,  1.08885722],\n",
       "       [ 0.        ,  0.        ,  0.        ,  0.        ,  0.        ,\n",
       "         0.        ,  0.        ,  0.        ,  0.        ]])"
      ]
     },
     "execution_count": 112,
     "metadata": {},
     "output_type": "execute_result"
    }
   ],
   "source": [
    "J_star"
   ]
  },
  {
   "cell_type": "code",
   "execution_count": 100,
   "metadata": {},
   "outputs": [
    {
     "data": {
      "text/plain": [
       "[Text(0, 0.5, '1'),\n",
       " Text(0, 1.5, '2'),\n",
       " Text(0, 2.5, '3'),\n",
       " Text(0, 3.5, '4'),\n",
       " Text(0, 4.5, '5'),\n",
       " Text(0, 5.5, '6'),\n",
       " Text(0, 6.5, '7'),\n",
       " Text(0, 7.5, '8'),\n",
       " Text(0, 8.5, '9')]"
      ]
     },
     "execution_count": 100,
     "metadata": {},
     "output_type": "execute_result"
    },
    {
     "data": {
      "image/png": "[encoded data removed]",
      "text/plain": [
       "<Figure size 432x288 with 2 Axes>"
      ]
     },
     "metadata": {},
     "output_type": "display_data"
    }
   ],
   "source": [
    "mask = np.triu(np.ones_like(J_star, dtype=bool))\n",
    "heatmap = sns.heatmap(J_star.T, mask=mask, center=0, square=True, linewidths=.5)\n",
    "heatmap.set_xticklabels(labels = range(1,10)) \n",
    "heatmap.set_yticklabels(labels = range(1,10)) "
   ]
  },
  {
   "cell_type": "code",
   "execution_count": 101,
   "metadata": {},
   "outputs": [],
   "source": [
    "P_train = probs(J_star)"
   ]
  },
  {
   "cell_type": "code",
   "execution_count": 102,
   "metadata": {},
   "outputs": [],
   "source": [
    "test = votes[800:]\n",
    "index = []\n",
    "for i, word in enumerate(words):\n",
    "    for j, word1 in enumerate(test):\n",
    "        if tuple(word) == tuple(word1):\n",
    "            if i in index: continue\n",
    "            else: index.append(i)"
   ]
  },
  {
   "cell_type": "code",
   "execution_count": 103,
   "metadata": {},
   "outputs": [],
   "source": [
    "likelihood = np.sum(np.log(P_train[index]))"
   ]
  },
  {
   "cell_type": "code",
   "execution_count": 104,
   "metadata": {},
   "outputs": [
    {
     "data": {
      "text/plain": [
       "-219.8110891860576"
      ]
     },
     "execution_count": 104,
     "metadata": {},
     "output_type": "execute_result"
    }
   ],
   "source": [
    "likelihood"
   ]
  },
  {
   "cell_type": "markdown",
   "metadata": {},
   "source": [
    "#### Comparison of the models"
   ]
  },
  {
   "cell_type": "code",
   "execution_count": 105,
   "metadata": {},
   "outputs": [],
   "source": [
    "means_model = np.sum(words.T * P_train, 1)\n",
    "means_av = np.mean(votes[:800],0)"
   ]
  },
  {
   "cell_type": "code",
   "execution_count": 106,
   "metadata": {},
   "outputs": [
    {
     "data": {
      "text/plain": [
       "<matplotlib.legend.Legend at 0x124532b00>"
      ]
     },
     "execution_count": 106,
     "metadata": {},
     "output_type": "execute_result"
    },
    {
     "data": {
      "image/png": "[encoded data removed]",
      "text/plain": [
       "<Figure size 432x288 with 1 Axes>"
      ]
     },
     "metadata": {},
     "output_type": "display_data"
    }
   ],
   "source": [
    "plt.scatter(range(1,10),means_av, label  = 'Average')\n",
    "plt.scatter(range(1,10),means_model, label = 'Inferred mean')\n",
    "plt.xticks(range(1,10))\n",
    "plt.xlabel('Judge #', fontsize = 12)\n",
    "plt.ylabel('Average vote', fontsize = 12)\n",
    "plt.hlines(0, 1, 9, label = '50% yes / 50% no')\n",
    "plt.legend()"
   ]
  },
  {
   "cell_type": "code",
   "execution_count": 107,
   "metadata": {},
   "outputs": [],
   "source": [
    "w_cent = np.array(words - np.sum(words.T * P_train,1),copy=True)\n",
    "cov = (P_train * w_cent.T) @ w_cent\n",
    "sigma = np.sqrt(np.sum(w_cent.T * w_cent.T * P_train, 1)) \n",
    "cor = cov / np.outer(sigma, sigma)"
   ]
  },
  {
   "cell_type": "code",
   "execution_count": 108,
   "metadata": {},
   "outputs": [
    {
     "data": {
      "text/plain": [
       "<matplotlib.legend.Legend at 0x124593550>"
      ]
     },
     "execution_count": 108,
     "metadata": {},
     "output_type": "execute_result"
    },
    {
     "data": {
      "image/png": "[encoded data removed]",
      "text/plain": [
       "<Figure size 288x288 with 1 Axes>"
      ]
     },
     "metadata": {},
     "output_type": "display_data"
    }
   ],
   "source": [
    "plt.figure(figsize = (4,4))\n",
    "plt.plot(np.arange(0,1.1,0.1), np.arange(0,1.1,0.1), c = 'red', label = 'y = x')\n",
    "plt.scatter(np.corrcoef(votes[:800].T), cor, marker = '.')\n",
    "plt.ylabel('Inferred correlation', fontsize = 12)\n",
    "#plt.scatter(np.corrcoef(votes[:800].T), cor_v, marker = '.', label = 'cor')\n",
    "plt.xlim(0,1.1)\n",
    "plt.ylim(0,1.1)\n",
    "plt.xlabel('Real correlation', fontsize = 12)\n",
    "plt.legend()"
   ]
  },
  {
   "cell_type": "code",
   "execution_count": null,
   "metadata": {},
   "outputs": [],
   "source": []
  }
 ],
 "metadata": {
  "kernelspec": {
   "display_name": "Python 3",
   "language": "python",
   "name": "python3"
  },
  "language_info": {
   "codemirror_mode": {
    "name": "ipython",
    "version": 3
   },
   "file_extension": ".py",
   "mimetype": "text/x-python",
   "name": "python",
   "nbconvert_exporter": "python",
   "pygments_lexer": "ipython3",
   "version": "3.6.8"
  }
 },
 "nbformat": 4,
 "nbformat_minor": 2
}
