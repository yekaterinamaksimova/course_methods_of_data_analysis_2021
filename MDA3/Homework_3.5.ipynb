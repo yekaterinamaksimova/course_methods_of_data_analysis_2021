{
 "cells": [
  {
   "cell_type": "code",
   "execution_count": 1,
   "metadata": {},
   "outputs": [],
   "source": [
    "import pandas as pd\n",
    "import numpy as np\n",
    "import matplotlib.pyplot as plt\n",
    "import scipy.stats as stats\n",
    "import itertools\n",
    "import seaborn as sns"
   ]
  },
  {
   "cell_type": "code",
   "execution_count": 134,
   "metadata": {},
   "outputs": [],
   "source": [
    "votes = np.genfromtxt('MDA3_data/votes.txt')\n",
    "av_vote = np.mean(votes,axis = 0)"
   ]
  },
  {
   "cell_type": "code",
   "execution_count": 120,
   "metadata": {},
   "outputs": [],
   "source": [
    "# [np.unique(votes[:,i], return_counts = True)for i in range(9)]"
   ]
  },
  {
   "cell_type": "code",
   "execution_count": 4,
   "metadata": {},
   "outputs": [],
   "source": [
    "counts = np.array([np.unique(votes[:,i], return_counts = True)[1]/len(votes) for i in range(9)])"
   ]
  },
  {
   "cell_type": "code",
   "execution_count": 121,
   "metadata": {},
   "outputs": [],
   "source": [
    "# counts"
   ]
  },
  {
   "cell_type": "code",
   "execution_count": 6,
   "metadata": {},
   "outputs": [
    {
     "data": {
      "text/plain": [
       "[Text(0, 0.5, '1'),\n",
       " Text(0, 1.5, '2'),\n",
       " Text(0, 2.5, '3'),\n",
       " Text(0, 3.5, '4'),\n",
       " Text(0, 4.5, '5'),\n",
       " Text(0, 5.5, '6'),\n",
       " Text(0, 6.5, '7'),\n",
       " Text(0, 7.5, '8'),\n",
       " Text(0, 8.5, '9')]"
      ]
     },
     "execution_count": 6,
     "metadata": {},
     "output_type": "execute_result"
    },
    {
     "data": {
      "image/png": "[encoded data removed]",
      "text/plain": [
       "<Figure size 432x288 with 2 Axes>"
      ]
     },
     "metadata": {},
     "output_type": "display_data"
    }
   ],
   "source": [
    "heatmap = sns.heatmap(np.corrcoef(votes.T), linewidth=0.5, square=True, center = 0)\n",
    "heatmap.set_xticklabels(labels = range(1,10)) \n",
    "heatmap.set_yticklabels(labels = range(1,10)) "
   ]
  },
  {
   "cell_type": "code",
   "execution_count": 7,
   "metadata": {},
   "outputs": [],
   "source": [
    "all9 = np.empty((512,9))\n",
    "for j, w in enumerate(itertools.product([0,1], repeat=9)):\n",
    "    all9[j] = w"
   ]
  },
  {
   "cell_type": "code",
   "execution_count": 8,
   "metadata": {},
   "outputs": [],
   "source": [
    "def word_prob(word, p_x):\n",
    "    p = 1\n",
    "    for n, letter in enumerate(word):    \n",
    "        p = p * p_x[n, int(letter)]  \n",
    "    return p"
   ]
  },
  {
   "cell_type": "code",
   "execution_count": 9,
   "metadata": {},
   "outputs": [],
   "source": [
    "P_word = np.empty(512)\n",
    "for i,word in enumerate(all9):\n",
    "    P_word[i] = word_prob(word, counts)"
   ]
  },
  {
   "cell_type": "code",
   "execution_count": 10,
   "metadata": {},
   "outputs": [],
   "source": [
    "judge_mean = np.zeros(9)\n",
    "for i, word in enumerate(all9):\n",
    "    for j in range(9):\n",
    "        if word[j] == 1:\n",
    "            judge_mean[j] += P_word[i]"
   ]
  },
  {
   "cell_type": "code",
   "execution_count": 11,
   "metadata": {},
   "outputs": [
    {
     "data": {
      "text/plain": [
       "array([0.33407821, 0.41452514, 0.41899441, 0.45027933, 0.60558659,\n",
       "       0.61340782, 0.68826816, 0.7027933 , 0.72513966])"
      ]
     },
     "execution_count": 11,
     "metadata": {},
     "output_type": "execute_result"
    }
   ],
   "source": [
    "judge_mean\n",
    "# array([0.33407821, 0.41452514, 0.41899441, 0.45027933, 0.60558659,\n",
    "#        0.61340782, 0.68826816, 0.7027933 , 0.72513966])"
   ]
  },
  {
   "cell_type": "code",
   "execution_count": 12,
   "metadata": {},
   "outputs": [
    {
     "data": {
      "text/plain": [
       "<matplotlib.legend.Legend at 0x128f68c50>"
      ]
     },
     "execution_count": 12,
     "metadata": {},
     "output_type": "execute_result"
    },
    {
     "data": {
      "image/png": "[encoded data removed]",
      "text/plain": [
       "<Figure size 432x288 with 1 Axes>"
      ]
     },
     "metadata": {},
     "output_type": "display_data"
    }
   ],
   "source": [
    "plt.scatter(range(1,10),judge_mean)\n",
    "plt.xticks(range(1,10))\n",
    "plt.xlabel('Judge #', fontsize = 12)\n",
    "plt.ylabel('Average vote', fontsize = 12)\n",
    "plt.hlines(0.5, 1, 9, label = '50% yes / 50% no')\n",
    "plt.legend()"
   ]
  },
  {
   "cell_type": "code",
   "execution_count": 146,
   "metadata": {},
   "outputs": [
    {
     "data": {
      "text/plain": [
       "Text(0.5, 0, 'Real mean')"
      ]
     },
     "execution_count": 146,
     "metadata": {},
     "output_type": "execute_result"
    },
    {
     "data": {
      "image/png": "[encoded data removed]",
      "text/plain": [
       "<Figure size 288x288 with 1 Axes>"
      ]
     },
     "metadata": {},
     "output_type": "display_data"
    }
   ],
   "source": [
    "plt.figure(figsize = (4,4))\n",
    "plt.scatter(av_vote,judge_mean)\n",
    "plt.title('binomial')\n",
    "plt.plot(np.arange(0,1.1,0.1), np.arange(0,1.1,0.1), ls = '--', c = 'red')\n",
    "plt.xlabel('Real mean', fontsize = 12)"
   ]
  },
  {
   "cell_type": "code",
   "execution_count": 15,
   "metadata": {},
   "outputs": [],
   "source": [
    "w_cent_1 = np.array(all9 - judge_mean, copy = True)\n",
    "cov_1 = (P_word * w_cent_1.T) @ w_cent_1\n",
    "sigma_1 = np.sqrt(np.sum(w_cent_1.T * w_cent_1.T * P_word, 1)) \n",
    "cor_1 = cov_1 / np.outer(sigma_1, sigma_1)"
   ]
  },
  {
   "cell_type": "code",
   "execution_count": 122,
   "metadata": {},
   "outputs": [
    {
     "data": {
      "text/plain": [
       "[Text(0, 0.5, '1'),\n",
       " Text(0, 1.5, '2'),\n",
       " Text(0, 2.5, '3'),\n",
       " Text(0, 3.5, '4'),\n",
       " Text(0, 4.5, '5'),\n",
       " Text(0, 5.5, '6'),\n",
       " Text(0, 6.5, '7'),\n",
       " Text(0, 7.5, '8'),\n",
       " Text(0, 8.5, '9')]"
      ]
     },
     "execution_count": 122,
     "metadata": {},
     "output_type": "execute_result"
    },
    {
     "data": {
      "image/png": "[encoded data removed]",
      "text/plain": [
       "<Figure size 432x288 with 2 Axes>"
      ]
     },
     "metadata": {},
     "output_type": "display_data"
    }
   ],
   "source": [
    "heatmap = sns.heatmap(cor_1, linewidth=0.5, square=True, center = 0)\n",
    "heatmap.set_xticklabels(labels = range(1,10)) \n",
    "heatmap.set_yticklabels(labels = range(1,10)) "
   ]
  },
  {
   "cell_type": "markdown",
   "metadata": {},
   "source": [
    "### Version 1:  Correlated judges distribution "
   ]
  },
  {
   "cell_type": "code",
   "execution_count": 60,
   "metadata": {},
   "outputs": [],
   "source": [
    "# def word_sum_prob(word, p_x):\n",
    "#     p = 0\n",
    "#     for n, letter in enumerate(word):    \n",
    "#         p += p_x[n, int(letter)]  \n",
    "#     return p"
   ]
  },
  {
   "cell_type": "code",
   "execution_count": 61,
   "metadata": {},
   "outputs": [],
   "source": [
    "# P_corr = np.empty(512)\n",
    "# for i, word in enumerate(all9):\n",
    "#     P_corr[i] = P_word[i]*word_sum_prob(word, counts)\n",
    "# P_corr = P_corr/sum(P_corr)"
   ]
  },
  {
   "cell_type": "code",
   "execution_count": 62,
   "metadata": {},
   "outputs": [],
   "source": [
    "# corr_mean = np.zeros(9)\n",
    "# for i, word in enumerate(all9):\n",
    "#     for j in range(9):\n",
    "#         if word[j] == 1:\n",
    "#             corr_mean[j] += P_corr[i]"
   ]
  },
  {
   "cell_type": "code",
   "execution_count": 63,
   "metadata": {},
   "outputs": [],
   "source": [
    "# plt.scatter(range(1,10),corr_mean, label = 'correlated distr',  marker = '.')\n",
    "# plt.scatter(range(1,10),judge_mean, label = 'ind binomial judges',  marker ='s')\n",
    "# plt.scatter(range(1,10),av_vote, marker = 'x',label =  'average', c = 'black')\n",
    "# plt.xticks(range(1,10))\n",
    "# plt.xlabel('Judge #', fontsize = 12)\n",
    "# plt.ylabel('Average vote', fontsize = 12)\n",
    "# plt.hlines(0.5, 1, 9, label = '50% yes / 50% no', color = 'red')\n",
    "# plt.legend()"
   ]
  },
  {
   "cell_type": "code",
   "execution_count": 64,
   "metadata": {},
   "outputs": [],
   "source": [
    "# corr_mean"
   ]
  },
  {
   "cell_type": "code",
   "execution_count": 65,
   "metadata": {},
   "outputs": [],
   "source": [
    "# corr_corrs = np.empty((9,9))\n",
    "# for i in range(9):\n",
    "#     for j in range(9):\n",
    "#         top = sum((votes[:,i] - judge_mean[i])*(votes[:,j] - judge_mean[j]))\n",
    "#         bot1 = np.sqrt(sum((votes[:,i] - judge_mean[i])**2))\n",
    "#         bot2 = np.sqrt(sum((votes[:,j] - judge_mean[j])**2))\n",
    "#         corr_corrs[i][j] = top/(bot1 * bot2)"
   ]
  },
  {
   "cell_type": "code",
   "execution_count": 66,
   "metadata": {},
   "outputs": [],
   "source": [
    "# heatmap = sns.heatmap(corr_corrs, linewidth=0.5, square=True, center = 0)\n",
    "# heatmap.set_xticklabels(labels = range(1,10)) \n",
    "# heatmap.set_yticklabels(labels = range(1,10)) "
   ]
  },
  {
   "cell_type": "markdown",
   "metadata": {},
   "source": [
    "### Version 2: correlated distribution"
   ]
  },
  {
   "cell_type": "code",
   "execution_count": 21,
   "metadata": {},
   "outputs": [],
   "source": [
    "i = 0\n",
    "Pij = np.empty((2,9,2,9))\n",
    "for i in range(9):\n",
    "    select1 = np.where(votes[:,i] == 1)[0]\n",
    "    Pij[1][i][1] = np.sum(votes[select1], axis = 0)/len(select1)\n",
    "    Pij[1][i][0] = 1-Pij[1][i][1]\n",
    "    select0 = np.where(votes[:,i] == 0)[0]\n",
    "    Pij[0][i][1] = np.sum(votes[select0], axis = 0)/len(select0)\n",
    "    Pij[0][i][0] = 1-Pij[0][i][1]"
   ]
  },
  {
   "cell_type": "code",
   "execution_count": 22,
   "metadata": {},
   "outputs": [],
   "source": [
    "def word_sum_prob2(word, Pij, P_x):\n",
    "    p = 0\n",
    "    for i, letter in enumerate(word):\n",
    "        p_i = P_x[i, int(letter)]\n",
    "        curr_P_ij = 1\n",
    "        for j, other_letter in enumerate(word):\n",
    "            #if j == i: continue\n",
    "            curr_P_ij = curr_P_ij* Pij[int(letter), i, int(other_letter), j]  \n",
    "        p+= p_i * curr_P_ij\n",
    "    return p"
   ]
  },
  {
   "cell_type": "code",
   "execution_count": 23,
   "metadata": {},
   "outputs": [],
   "source": [
    "P_corr_2 = np.empty(512)\n",
    "for i, word in enumerate(all9):\n",
    "    P_corr_2[i] = word_sum_prob2(word, Pij, counts)\n",
    "P_corr_2 = P_corr_2/sum(P_corr_2)"
   ]
  },
  {
   "cell_type": "code",
   "execution_count": 24,
   "metadata": {},
   "outputs": [],
   "source": [
    "corr_mean_2 = np.zeros(9)\n",
    "for i, word in enumerate(all9):\n",
    "    for j in range(9):\n",
    "        if word[j] == 1:\n",
    "            corr_mean_2[j] += P_corr_2[i]\n",
    "# or just one line: np.sum(all9.T * P_corr_2, 1)"
   ]
  },
  {
   "cell_type": "code",
   "execution_count": 25,
   "metadata": {},
   "outputs": [
    {
     "data": {
      "text/plain": [
       "array([0.33407821, 0.41452514, 0.41899441, 0.45027933, 0.60558659,\n",
       "       0.61340782, 0.68826816, 0.7027933 , 0.72513966])"
      ]
     },
     "execution_count": 25,
     "metadata": {},
     "output_type": "execute_result"
    }
   ],
   "source": [
    "corr_mean_2"
   ]
  },
  {
   "cell_type": "code",
   "execution_count": 152,
   "metadata": {},
   "outputs": [
    {
     "data": {
      "text/plain": [
       "<matplotlib.legend.Legend at 0x12d2c3320>"
      ]
     },
     "execution_count": 152,
     "metadata": {},
     "output_type": "execute_result"
    },
    {
     "data": {
      "image/png": "[encoded data removed]",
      "text/plain": [
       "<Figure size 432x288 with 1 Axes>"
      ]
     },
     "metadata": {},
     "output_type": "display_data"
    }
   ],
   "source": [
    "plt.scatter(range(1,10),corr_mean_2, label = 'AODE',  marker = 's', c = 'green')\n",
    "plt.scatter(range(1,10),judge_mean, label = 'binomial',  marker ='+', c = 'red')\n",
    "plt.scatter(range(1,10),av_vote, marker = 'x',label =  'average', c = 'black')\n",
    "plt.xticks(range(1,10))\n",
    "plt.xlabel('Judge #', fontsize = 12)\n",
    "plt.ylabel('Average vote', fontsize = 12)\n",
    "plt.hlines(0.5, 1, 9, label = '50% yes / 50% no', color = 'red')\n",
    "plt.legend()"
   ]
  },
  {
   "cell_type": "code",
   "execution_count": 148,
   "metadata": {},
   "outputs": [
    {
     "data": {
      "text/plain": [
       "Text(0.5, 0, 'Real mean')"
      ]
     },
     "execution_count": 148,
     "metadata": {},
     "output_type": "execute_result"
    },
    {
     "data": {
      "image/png": "[encoded data removed]",
      "text/plain": [
       "<Figure size 288x288 with 1 Axes>"
      ]
     },
     "metadata": {},
     "output_type": "display_data"
    }
   ],
   "source": [
    "plt.figure(figsize = (4,4))\n",
    "plt.scatter(av_vote,corr_mean_2)\n",
    "plt.title('AODE')\n",
    "plt.plot(np.arange(0,1.1,0.1), np.arange(0,1.1,0.1), ls = '--', c = 'red')\n",
    "plt.xlabel('Real mean', fontsize = 12)"
   ]
  },
  {
   "cell_type": "code",
   "execution_count": 29,
   "metadata": {},
   "outputs": [],
   "source": [
    "w_cent_2 = np.array(all9 - corr_mean_2, copy = True)\n",
    "cov_2 = (P_corr_2 * w_cent_2.T) @ w_cent_2\n",
    "sigma_2 = np.sqrt(np.sum(w_cent_2.T * w_cent_2.T * P_corr_2, 1)) \n",
    "cor_2 = cov_2 / np.outer(sigma_2, sigma_2)"
   ]
  },
  {
   "cell_type": "code",
   "execution_count": 30,
   "metadata": {},
   "outputs": [
    {
     "data": {
      "text/plain": [
       "[Text(0, 0.5, '1'),\n",
       " Text(0, 1.5, '2'),\n",
       " Text(0, 2.5, '3'),\n",
       " Text(0, 3.5, '4'),\n",
       " Text(0, 4.5, '5'),\n",
       " Text(0, 5.5, '6'),\n",
       " Text(0, 6.5, '7'),\n",
       " Text(0, 7.5, '8'),\n",
       " Text(0, 8.5, '9')]"
      ]
     },
     "execution_count": 30,
     "metadata": {},
     "output_type": "execute_result"
    },
    {
     "data": {
      "image/png": "[encoded data removed]",
      "text/plain": [
       "<Figure size 432x288 with 2 Axes>"
      ]
     },
     "metadata": {},
     "output_type": "display_data"
    }
   ],
   "source": [
    "heatmap = sns.heatmap(cor_2, linewidth=0.5, square=True, center = 0.5)\n",
    "heatmap.set_xticklabels(labels = range(1,10)) \n",
    "heatmap.set_yticklabels(labels = range(1,10)) "
   ]
  },
  {
   "cell_type": "code",
   "execution_count": 156,
   "metadata": {},
   "outputs": [
    {
     "data": {
      "text/plain": [
       "(0, 1)"
      ]
     },
     "execution_count": 156,
     "metadata": {},
     "output_type": "execute_result"
    },
    {
     "data": {
      "image/png": "[encoded data removed]",
      "text/plain": [
       "<Figure size 648x288 with 2 Axes>"
      ]
     },
     "metadata": {},
     "output_type": "display_data"
    }
   ],
   "source": [
    "fig, ax = plt.subplots(1,2,figsize = (9,4), sharey = True)\n",
    "ax[1].scatter(np.corrcoef(votes.T), cor_2, marker = '.')\n",
    "ax[1].set_title('AODE')\n",
    "ax[0].scatter(np.corrcoef(votes.T), cor_1, marker = '.')\n",
    "ax[0].set_title('binomial')\n",
    "ax[0].set_xlabel('real', fontsize = 12)\n",
    "ax[1].set_xlabel('real', fontsize = 12)\n",
    "ax[1].set_xlim(0,1)\n",
    "ax[0].set_xlim(0,1)"
   ]
  },
  {
   "cell_type": "markdown",
   "metadata": {},
   "source": [
    "### Moments"
   ]
  },
  {
   "cell_type": "code",
   "execution_count": 33,
   "metadata": {},
   "outputs": [],
   "source": [
    "var_model1 = np.zeros(9)\n",
    "var_model2 = np.zeros(9)\n",
    "for i in range(9):\n",
    "    sel_1 = np.where(all9[:,i] == 1)[0]\n",
    "    sel_0 = np.where(all9[:,i] == 0)[0]\n",
    "    var_model1[i] = sum(P_word[sel_1])*(1-judge_mean[i])**2 + sum(P_word[sel_0])*(0-judge_mean[i])**2\n",
    "    var_model2[i] = sum(P_corr_2[sel_1])*(1-corr_mean_2[i])**2 + sum(P_corr_2[sel_0])*(0-corr_mean_2[i])**2\n",
    "    "
   ]
  },
  {
   "cell_type": "code",
   "execution_count": 167,
   "metadata": {},
   "outputs": [
    {
     "data": {
      "text/plain": [
       "<matplotlib.legend.Legend at 0x12cb227f0>"
      ]
     },
     "execution_count": 167,
     "metadata": {},
     "output_type": "execute_result"
    },
    {
     "data": {
      "image/png": "[encoded data removed]",
      "text/plain": [
       "<Figure size 432x288 with 1 Axes>"
      ]
     },
     "metadata": {},
     "output_type": "display_data"
    }
   ],
   "source": [
    "plt.figure(figsize = (6,4))\n",
    "plt.scatter(range(1,10),np.std(votes, 0)**2, label = 'real variance', c = 'red', marker = 's')\n",
    "plt.scatter(range(1,10),var_model1, label = 'binomial', c = 'orange')\n",
    "plt.scatter(range(1,10),var_model2, label = 'AODE', marker = '+', c = 'blue')\n",
    "#plt.scatter(range(1,10),sigma_1**2, label = 'ind binomial #2', marker = '+')\n",
    "plt.ylabel('Variance', fontsize = 12)\n",
    "plt.xlabel(\"Judge #\", fontsize = 12)\n",
    "plt.legend()"
   ]
  },
  {
   "cell_type": "markdown",
   "metadata": {},
   "source": [
    "### Prediction"
   ]
  },
  {
   "cell_type": "code",
   "execution_count": 61,
   "metadata": {},
   "outputs": [],
   "source": [
    "train = votes[:800,:]\n",
    "test = votes[800:,:]"
   ]
  },
  {
   "cell_type": "code",
   "execution_count": 62,
   "metadata": {},
   "outputs": [],
   "source": [
    "counts_train = np.array([np.unique(train[:,i], return_counts = True)[1]/len(train) for i in range(9)])"
   ]
  },
  {
   "cell_type": "code",
   "execution_count": 63,
   "metadata": {},
   "outputs": [],
   "source": [
    "i = 0\n",
    "Pij_train = np.empty((2,9,2,9))\n",
    "for i in range(9):\n",
    "    select_train1 = np.where(train[:,i] == 1)[0]\n",
    "    Pij_train[1][i][1] = np.sum(train[select_train1], axis = 0)/len(select_train1)\n",
    "    Pij_train[1][i][0] = 1-Pij_train[1][i][1]\n",
    "    select_train0 = np.where(train[:,i] == 0)[0]\n",
    "    Pij_train[0][i][1] = np.sum(train[select_train0], axis = 0)/len(select_train0)\n",
    "    Pij_train[0][i][0] = 1-Pij_train[0][i][1]"
   ]
  },
  {
   "cell_type": "code",
   "execution_count": 170,
   "metadata": {},
   "outputs": [],
   "source": [
    "P_train = np.empty(512)\n",
    "P_train_0 = np.empty(512)\n",
    "for i, word in enumerate(all9):\n",
    "    P_train[i] = word_sum_prob2(word, Pij_train, counts_train)\n",
    "    P_train_0[i] = word_prob(word, counts_train)\n",
    "P_train = P_train/sum(P_train)\n",
    "P_train_0 = P_train_0/sum(P_train_0)"
   ]
  },
  {
   "cell_type": "code",
   "execution_count": 168,
   "metadata": {},
   "outputs": [
    {
     "data": {
      "text/plain": [
       "(324,)"
      ]
     },
     "execution_count": 168,
     "metadata": {},
     "output_type": "execute_result"
    }
   ],
   "source": [
    "Pij_train.flatten().shape"
   ]
  },
  {
   "cell_type": "markdown",
   "metadata": {},
   "source": [
    "#### Likelihood"
   ]
  },
  {
   "cell_type": "code",
   "execution_count": 94,
   "metadata": {},
   "outputs": [],
   "source": [
    "index = []\n",
    "for i, word in enumerate(all9):\n",
    "    for j, word1 in enumerate(test):\n",
    "        if tuple(word) == tuple(word1):\n",
    "            if i in index: continue\n",
    "            else: index.append(i)"
   ]
  },
  {
   "cell_type": "code",
   "execution_count": 174,
   "metadata": {},
   "outputs": [],
   "source": [
    "likelihood = np.sum(np.log(P_train[index]))\n",
    "likelihood_0 = np.sum(np.log(P_train_0[index]))"
   ]
  },
  {
   "cell_type": "code",
   "execution_count": 177,
   "metadata": {},
   "outputs": [
    {
     "data": {
      "text/plain": [
       "-205.0085257546014"
      ]
     },
     "execution_count": 177,
     "metadata": {},
     "output_type": "execute_result"
    }
   ],
   "source": [
    "likelihood_0"
   ]
  },
  {
   "cell_type": "code",
   "execution_count": null,
   "metadata": {},
   "outputs": [],
   "source": []
  }
 ],
 "metadata": {
  "kernelspec": {
   "display_name": "Python 3",
   "language": "python",
   "name": "python3"
  },
  "language_info": {
   "codemirror_mode": {
    "name": "ipython",
    "version": 3
   },
   "file_extension": ".py",
   "mimetype": "text/x-python",
   "name": "python",
   "nbconvert_exporter": "python",
   "pygments_lexer": "ipython3",
   "version": "3.6.8"
  }
 },
 "nbformat": 4,
 "nbformat_minor": 2
}
